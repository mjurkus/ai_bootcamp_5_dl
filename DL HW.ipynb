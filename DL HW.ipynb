{
 "cells": [
  {
   "cell_type": "markdown",
   "metadata": {},
   "source": [
    "## Introduction"
   ]
  },
  {
   "cell_type": "markdown",
   "metadata": {},
   "source": [
    "In this notebook we will try to derermine what determines best red wine quality. Dataset can be found here [Kaggle: Red Wine Quality](https://www.kaggle.com/uciml/red-wine-quality-cortez-et-al-2009).\n",
    "\n",
    "We will use TensorFlow 2.0 to train DL model and predict wine quality and compare models performance with RandomForestClasifier model."
   ]
  },
  {
   "cell_type": "markdown",
   "metadata": {},
   "source": [
    "## The usual suspects"
   ]
  },
  {
   "cell_type": "code",
   "execution_count": 195,
   "metadata": {},
   "outputs": [],
   "source": [
    "import pandas as pd\n",
    "import numpy as np\n",
    "import matplotlib.pyplot as plt\n",
    "import seaborn as sns\n",
    "import tensorflow as tf\n",
    "from sklearn.model_selection import train_test_split, RandomizedSearchCV, GridSearchCV\n",
    "from sklearn.linear_model import LogisticRegression\n",
    "from sklearn.preprocessing import StandardScaler\n",
    "from sklearn.ensemble import RandomForestRegressor\n",
    "from sklearn.externals import joblib\n",
    "from sklearn import metrics\n",
    "%matplotlib inline"
   ]
  },
  {
   "cell_type": "code",
   "execution_count": 18,
   "metadata": {},
   "outputs": [],
   "source": [
    "df = pd.read_csv('winequality-red.csv', low_memory=False)"
   ]
  },
  {
   "cell_type": "markdown",
   "metadata": {},
   "source": [
    "## EDA\n",
    "\n",
    "Inspect and analyse imported data"
   ]
  },
  {
   "cell_type": "code",
   "execution_count": 19,
   "metadata": {},
   "outputs": [
    {
     "data": {
      "text/html": [
       "<div>\n",
       "<style scoped>\n",
       "    .dataframe tbody tr th:only-of-type {\n",
       "        vertical-align: middle;\n",
       "    }\n",
       "\n",
       "    .dataframe tbody tr th {\n",
       "        vertical-align: top;\n",
       "    }\n",
       "\n",
       "    .dataframe thead th {\n",
       "        text-align: right;\n",
       "    }\n",
       "</style>\n",
       "<table border=\"1\" class=\"dataframe\">\n",
       "  <thead>\n",
       "    <tr style=\"text-align: right;\">\n",
       "      <th></th>\n",
       "      <th>0</th>\n",
       "      <th>1</th>\n",
       "      <th>2</th>\n",
       "      <th>3</th>\n",
       "      <th>4</th>\n",
       "    </tr>\n",
       "  </thead>\n",
       "  <tbody>\n",
       "    <tr>\n",
       "      <th>fixed acidity</th>\n",
       "      <td>7.4000</td>\n",
       "      <td>7.8000</td>\n",
       "      <td>7.800</td>\n",
       "      <td>11.200</td>\n",
       "      <td>7.4000</td>\n",
       "    </tr>\n",
       "    <tr>\n",
       "      <th>volatile acidity</th>\n",
       "      <td>0.7000</td>\n",
       "      <td>0.8800</td>\n",
       "      <td>0.760</td>\n",
       "      <td>0.280</td>\n",
       "      <td>0.7000</td>\n",
       "    </tr>\n",
       "    <tr>\n",
       "      <th>citric acid</th>\n",
       "      <td>0.0000</td>\n",
       "      <td>0.0000</td>\n",
       "      <td>0.040</td>\n",
       "      <td>0.560</td>\n",
       "      <td>0.0000</td>\n",
       "    </tr>\n",
       "    <tr>\n",
       "      <th>residual sugar</th>\n",
       "      <td>1.9000</td>\n",
       "      <td>2.6000</td>\n",
       "      <td>2.300</td>\n",
       "      <td>1.900</td>\n",
       "      <td>1.9000</td>\n",
       "    </tr>\n",
       "    <tr>\n",
       "      <th>chlorides</th>\n",
       "      <td>0.0760</td>\n",
       "      <td>0.0980</td>\n",
       "      <td>0.092</td>\n",
       "      <td>0.075</td>\n",
       "      <td>0.0760</td>\n",
       "    </tr>\n",
       "    <tr>\n",
       "      <th>free sulfur dioxide</th>\n",
       "      <td>11.0000</td>\n",
       "      <td>25.0000</td>\n",
       "      <td>15.000</td>\n",
       "      <td>17.000</td>\n",
       "      <td>11.0000</td>\n",
       "    </tr>\n",
       "    <tr>\n",
       "      <th>total sulfur dioxide</th>\n",
       "      <td>34.0000</td>\n",
       "      <td>67.0000</td>\n",
       "      <td>54.000</td>\n",
       "      <td>60.000</td>\n",
       "      <td>34.0000</td>\n",
       "    </tr>\n",
       "    <tr>\n",
       "      <th>density</th>\n",
       "      <td>0.9978</td>\n",
       "      <td>0.9968</td>\n",
       "      <td>0.997</td>\n",
       "      <td>0.998</td>\n",
       "      <td>0.9978</td>\n",
       "    </tr>\n",
       "    <tr>\n",
       "      <th>pH</th>\n",
       "      <td>3.5100</td>\n",
       "      <td>3.2000</td>\n",
       "      <td>3.260</td>\n",
       "      <td>3.160</td>\n",
       "      <td>3.5100</td>\n",
       "    </tr>\n",
       "    <tr>\n",
       "      <th>sulphates</th>\n",
       "      <td>0.5600</td>\n",
       "      <td>0.6800</td>\n",
       "      <td>0.650</td>\n",
       "      <td>0.580</td>\n",
       "      <td>0.5600</td>\n",
       "    </tr>\n",
       "    <tr>\n",
       "      <th>alcohol</th>\n",
       "      <td>9.4000</td>\n",
       "      <td>9.8000</td>\n",
       "      <td>9.800</td>\n",
       "      <td>9.800</td>\n",
       "      <td>9.4000</td>\n",
       "    </tr>\n",
       "    <tr>\n",
       "      <th>quality</th>\n",
       "      <td>5.0000</td>\n",
       "      <td>5.0000</td>\n",
       "      <td>5.000</td>\n",
       "      <td>6.000</td>\n",
       "      <td>5.0000</td>\n",
       "    </tr>\n",
       "  </tbody>\n",
       "</table>\n",
       "</div>"
      ],
      "text/plain": [
       "                            0        1       2       3        4\n",
       "fixed acidity          7.4000   7.8000   7.800  11.200   7.4000\n",
       "volatile acidity       0.7000   0.8800   0.760   0.280   0.7000\n",
       "citric acid            0.0000   0.0000   0.040   0.560   0.0000\n",
       "residual sugar         1.9000   2.6000   2.300   1.900   1.9000\n",
       "chlorides              0.0760   0.0980   0.092   0.075   0.0760\n",
       "free sulfur dioxide   11.0000  25.0000  15.000  17.000  11.0000\n",
       "total sulfur dioxide  34.0000  67.0000  54.000  60.000  34.0000\n",
       "density                0.9978   0.9968   0.997   0.998   0.9978\n",
       "pH                     3.5100   3.2000   3.260   3.160   3.5100\n",
       "sulphates              0.5600   0.6800   0.650   0.580   0.5600\n",
       "alcohol                9.4000   9.8000   9.800   9.800   9.4000\n",
       "quality                5.0000   5.0000   5.000   6.000   5.0000"
      ]
     },
     "execution_count": 19,
     "metadata": {},
     "output_type": "execute_result"
    }
   ],
   "source": [
    "df.head().T"
   ]
  },
  {
   "cell_type": "code",
   "execution_count": 20,
   "metadata": {},
   "outputs": [
    {
     "name": "stdout",
     "output_type": "stream",
     "text": [
      "<class 'pandas.core.frame.DataFrame'>\n",
      "RangeIndex: 1599 entries, 0 to 1598\n",
      "Data columns (total 12 columns):\n",
      "fixed acidity           1599 non-null float64\n",
      "volatile acidity        1599 non-null float64\n",
      "citric acid             1599 non-null float64\n",
      "residual sugar          1599 non-null float64\n",
      "chlorides               1599 non-null float64\n",
      "free sulfur dioxide     1599 non-null float64\n",
      "total sulfur dioxide    1599 non-null float64\n",
      "density                 1599 non-null float64\n",
      "pH                      1599 non-null float64\n",
      "sulphates               1599 non-null float64\n",
      "alcohol                 1599 non-null float64\n",
      "quality                 1599 non-null int64\n",
      "dtypes: float64(11), int64(1)\n",
      "memory usage: 150.0 KB\n"
     ]
    }
   ],
   "source": [
    "df.info()"
   ]
  },
  {
   "cell_type": "code",
   "execution_count": 27,
   "metadata": {},
   "outputs": [
    {
     "data": {
      "text/html": [
       "<div>\n",
       "<style scoped>\n",
       "    .dataframe tbody tr th:only-of-type {\n",
       "        vertical-align: middle;\n",
       "    }\n",
       "\n",
       "    .dataframe tbody tr th {\n",
       "        vertical-align: top;\n",
       "    }\n",
       "\n",
       "    .dataframe thead th {\n",
       "        text-align: right;\n",
       "    }\n",
       "</style>\n",
       "<table border=\"1\" class=\"dataframe\">\n",
       "  <thead>\n",
       "    <tr style=\"text-align: right;\">\n",
       "      <th></th>\n",
       "      <th>count</th>\n",
       "      <th>mean</th>\n",
       "      <th>std</th>\n",
       "      <th>min</th>\n",
       "      <th>25%</th>\n",
       "      <th>50%</th>\n",
       "      <th>75%</th>\n",
       "      <th>max</th>\n",
       "    </tr>\n",
       "  </thead>\n",
       "  <tbody>\n",
       "    <tr>\n",
       "      <th>fixed acidity</th>\n",
       "      <td>1599.0</td>\n",
       "      <td>8.319637</td>\n",
       "      <td>1.741096</td>\n",
       "      <td>4.60000</td>\n",
       "      <td>7.1000</td>\n",
       "      <td>7.90000</td>\n",
       "      <td>9.200000</td>\n",
       "      <td>15.90000</td>\n",
       "    </tr>\n",
       "    <tr>\n",
       "      <th>volatile acidity</th>\n",
       "      <td>1599.0</td>\n",
       "      <td>0.527821</td>\n",
       "      <td>0.179060</td>\n",
       "      <td>0.12000</td>\n",
       "      <td>0.3900</td>\n",
       "      <td>0.52000</td>\n",
       "      <td>0.640000</td>\n",
       "      <td>1.58000</td>\n",
       "    </tr>\n",
       "    <tr>\n",
       "      <th>citric acid</th>\n",
       "      <td>1599.0</td>\n",
       "      <td>0.270976</td>\n",
       "      <td>0.194801</td>\n",
       "      <td>0.00000</td>\n",
       "      <td>0.0900</td>\n",
       "      <td>0.26000</td>\n",
       "      <td>0.420000</td>\n",
       "      <td>1.00000</td>\n",
       "    </tr>\n",
       "    <tr>\n",
       "      <th>residual sugar</th>\n",
       "      <td>1599.0</td>\n",
       "      <td>2.538806</td>\n",
       "      <td>1.409928</td>\n",
       "      <td>0.90000</td>\n",
       "      <td>1.9000</td>\n",
       "      <td>2.20000</td>\n",
       "      <td>2.600000</td>\n",
       "      <td>15.50000</td>\n",
       "    </tr>\n",
       "    <tr>\n",
       "      <th>chlorides</th>\n",
       "      <td>1599.0</td>\n",
       "      <td>0.087467</td>\n",
       "      <td>0.047065</td>\n",
       "      <td>0.01200</td>\n",
       "      <td>0.0700</td>\n",
       "      <td>0.07900</td>\n",
       "      <td>0.090000</td>\n",
       "      <td>0.61100</td>\n",
       "    </tr>\n",
       "    <tr>\n",
       "      <th>free sulfur dioxide</th>\n",
       "      <td>1599.0</td>\n",
       "      <td>15.874922</td>\n",
       "      <td>10.460157</td>\n",
       "      <td>1.00000</td>\n",
       "      <td>7.0000</td>\n",
       "      <td>14.00000</td>\n",
       "      <td>21.000000</td>\n",
       "      <td>72.00000</td>\n",
       "    </tr>\n",
       "    <tr>\n",
       "      <th>total sulfur dioxide</th>\n",
       "      <td>1599.0</td>\n",
       "      <td>46.467792</td>\n",
       "      <td>32.895324</td>\n",
       "      <td>6.00000</td>\n",
       "      <td>22.0000</td>\n",
       "      <td>38.00000</td>\n",
       "      <td>62.000000</td>\n",
       "      <td>289.00000</td>\n",
       "    </tr>\n",
       "    <tr>\n",
       "      <th>density</th>\n",
       "      <td>1599.0</td>\n",
       "      <td>0.996747</td>\n",
       "      <td>0.001887</td>\n",
       "      <td>0.99007</td>\n",
       "      <td>0.9956</td>\n",
       "      <td>0.99675</td>\n",
       "      <td>0.997835</td>\n",
       "      <td>1.00369</td>\n",
       "    </tr>\n",
       "    <tr>\n",
       "      <th>pH</th>\n",
       "      <td>1599.0</td>\n",
       "      <td>3.311113</td>\n",
       "      <td>0.154386</td>\n",
       "      <td>2.74000</td>\n",
       "      <td>3.2100</td>\n",
       "      <td>3.31000</td>\n",
       "      <td>3.400000</td>\n",
       "      <td>4.01000</td>\n",
       "    </tr>\n",
       "    <tr>\n",
       "      <th>sulphates</th>\n",
       "      <td>1599.0</td>\n",
       "      <td>0.658149</td>\n",
       "      <td>0.169507</td>\n",
       "      <td>0.33000</td>\n",
       "      <td>0.5500</td>\n",
       "      <td>0.62000</td>\n",
       "      <td>0.730000</td>\n",
       "      <td>2.00000</td>\n",
       "    </tr>\n",
       "    <tr>\n",
       "      <th>alcohol</th>\n",
       "      <td>1599.0</td>\n",
       "      <td>10.422983</td>\n",
       "      <td>1.065668</td>\n",
       "      <td>8.40000</td>\n",
       "      <td>9.5000</td>\n",
       "      <td>10.20000</td>\n",
       "      <td>11.100000</td>\n",
       "      <td>14.90000</td>\n",
       "    </tr>\n",
       "    <tr>\n",
       "      <th>quality</th>\n",
       "      <td>1599.0</td>\n",
       "      <td>5.636023</td>\n",
       "      <td>0.807569</td>\n",
       "      <td>3.00000</td>\n",
       "      <td>5.0000</td>\n",
       "      <td>6.00000</td>\n",
       "      <td>6.000000</td>\n",
       "      <td>8.00000</td>\n",
       "    </tr>\n",
       "  </tbody>\n",
       "</table>\n",
       "</div>"
      ],
      "text/plain": [
       "                       count       mean        std      min      25%  \\\n",
       "fixed acidity         1599.0   8.319637   1.741096  4.60000   7.1000   \n",
       "volatile acidity      1599.0   0.527821   0.179060  0.12000   0.3900   \n",
       "citric acid           1599.0   0.270976   0.194801  0.00000   0.0900   \n",
       "residual sugar        1599.0   2.538806   1.409928  0.90000   1.9000   \n",
       "chlorides             1599.0   0.087467   0.047065  0.01200   0.0700   \n",
       "free sulfur dioxide   1599.0  15.874922  10.460157  1.00000   7.0000   \n",
       "total sulfur dioxide  1599.0  46.467792  32.895324  6.00000  22.0000   \n",
       "density               1599.0   0.996747   0.001887  0.99007   0.9956   \n",
       "pH                    1599.0   3.311113   0.154386  2.74000   3.2100   \n",
       "sulphates             1599.0   0.658149   0.169507  0.33000   0.5500   \n",
       "alcohol               1599.0  10.422983   1.065668  8.40000   9.5000   \n",
       "quality               1599.0   5.636023   0.807569  3.00000   5.0000   \n",
       "\n",
       "                           50%        75%        max  \n",
       "fixed acidity          7.90000   9.200000   15.90000  \n",
       "volatile acidity       0.52000   0.640000    1.58000  \n",
       "citric acid            0.26000   0.420000    1.00000  \n",
       "residual sugar         2.20000   2.600000   15.50000  \n",
       "chlorides              0.07900   0.090000    0.61100  \n",
       "free sulfur dioxide   14.00000  21.000000   72.00000  \n",
       "total sulfur dioxide  38.00000  62.000000  289.00000  \n",
       "density                0.99675   0.997835    1.00369  \n",
       "pH                     3.31000   3.400000    4.01000  \n",
       "sulphates              0.62000   0.730000    2.00000  \n",
       "alcohol               10.20000  11.100000   14.90000  \n",
       "quality                6.00000   6.000000    8.00000  "
      ]
     },
     "execution_count": 27,
     "metadata": {},
     "output_type": "execute_result"
    }
   ],
   "source": [
    "df.describe().T"
   ]
  },
  {
   "cell_type": "markdown",
   "metadata": {},
   "source": [
    "### What determines wine quality?"
   ]
  },
  {
   "cell_type": "code",
   "execution_count": 221,
   "metadata": {},
   "outputs": [
    {
     "data": {
      "image/png": "[encoded data removed]",
      "text/plain": [
       "<Figure size 432x288 with 1 Axes>"
      ]
     },
     "metadata": {
      "needs_background": "light"
     },
     "output_type": "display_data"
    }
   ],
   "source": [
    "sns.countplot(x='quality', data=df);"
   ]
  },
  {
   "cell_type": "code",
   "execution_count": 219,
   "metadata": {},
   "outputs": [
    {
     "data": {
      "image/png": "[encoded data removed]",
      "text/plain": [
       "<Figure size 1152x288 with 3 Axes>"
      ]
     },
     "metadata": {
      "needs_background": "light"
     },
     "output_type": "display_data"
    }
   ],
   "source": [
    "fig, axs = plt.subplots(ncols=3)\n",
    "fig.set_figwidth(16)\n",
    "sns.boxenplot(x='quality', y='pH', data=df, ax=axs[0])\n",
    "sns.boxenplot(x='quality', y='sulphates', data=df, ax=axs[1])\n",
    "sns.boxenplot(x='quality', y='residual sugar', data=df, ax=axs[2]);"
   ]
  },
  {
   "cell_type": "code",
   "execution_count": 220,
   "metadata": {},
   "outputs": [
    {
     "data": {
      "image/png": "[encoded data removed]",
      "text/plain": [
       "<Figure size 1152x288 with 3 Axes>"
      ]
     },
     "metadata": {
      "needs_background": "light"
     },
     "output_type": "display_data"
    }
   ],
   "source": [
    "fig, axs = plt.subplots(ncols=3)\n",
    "fig.set_figwidth(16)\n",
    "sns.boxenplot(x='quality', y='alcohol', data=df, ax=axs[0])\n",
    "sns.boxenplot(x='quality', y='fixed acidity', data=df, ax=axs[1])\n",
    "sns.boxenplot(x='quality', y='citric acid', data=df, ax=axs[2]);"
   ]
  },
  {
   "cell_type": "markdown",
   "metadata": {},
   "source": [
    "Seems like more **alcohol** makes for better wine. Who knew?! :D\n",
    "\n",
    "While `fixed acidity` or `residual sugar` does not seem to affect quality at all"
   ]
  },
  {
   "cell_type": "markdown",
   "metadata": {},
   "source": [
    "## Data preprocessing"
   ]
  },
  {
   "cell_type": "markdown",
   "metadata": {},
   "source": [
    "Select feature columns to use them later"
   ]
  },
  {
   "cell_type": "code",
   "execution_count": 43,
   "metadata": {},
   "outputs": [],
   "source": [
    "features = df.columns.to_list()\n",
    "features.remove('quality')"
   ]
  },
  {
   "cell_type": "code",
   "execution_count": 45,
   "metadata": {},
   "outputs": [],
   "source": [
    "scaler = StandardScaler()\n",
    "scaled_features = scaler.fit_transform(df.drop('quality', axis=1))\n",
    "df_features = pd.DataFrame(scaled_features, columns=feat_columns)"
   ]
  },
  {
   "cell_type": "code",
   "execution_count": 47,
   "metadata": {},
   "outputs": [
    {
     "data": {
      "text/html": [
       "<div>\n",
       "<style scoped>\n",
       "    .dataframe tbody tr th:only-of-type {\n",
       "        vertical-align: middle;\n",
       "    }\n",
       "\n",
       "    .dataframe tbody tr th {\n",
       "        vertical-align: top;\n",
       "    }\n",
       "\n",
       "    .dataframe thead th {\n",
       "        text-align: right;\n",
       "    }\n",
       "</style>\n",
       "<table border=\"1\" class=\"dataframe\">\n",
       "  <thead>\n",
       "    <tr style=\"text-align: right;\">\n",
       "      <th></th>\n",
       "      <th>count</th>\n",
       "      <th>mean</th>\n",
       "      <th>std</th>\n",
       "      <th>min</th>\n",
       "      <th>25%</th>\n",
       "      <th>50%</th>\n",
       "      <th>75%</th>\n",
       "      <th>max</th>\n",
       "    </tr>\n",
       "  </thead>\n",
       "  <tbody>\n",
       "    <tr>\n",
       "      <th>fixed acidity</th>\n",
       "      <td>1599.0</td>\n",
       "      <td>3.435512e-16</td>\n",
       "      <td>1.000313</td>\n",
       "      <td>-2.137045</td>\n",
       "      <td>-0.700719</td>\n",
       "      <td>-0.241094</td>\n",
       "      <td>0.505795</td>\n",
       "      <td>4.355149</td>\n",
       "    </tr>\n",
       "    <tr>\n",
       "      <th>volatile acidity</th>\n",
       "      <td>1599.0</td>\n",
       "      <td>1.699704e-16</td>\n",
       "      <td>1.000313</td>\n",
       "      <td>-2.278280</td>\n",
       "      <td>-0.769931</td>\n",
       "      <td>-0.043689</td>\n",
       "      <td>0.626688</td>\n",
       "      <td>5.877976</td>\n",
       "    </tr>\n",
       "    <tr>\n",
       "      <th>citric acid</th>\n",
       "      <td>1599.0</td>\n",
       "      <td>4.335355e-16</td>\n",
       "      <td>1.000313</td>\n",
       "      <td>-1.391472</td>\n",
       "      <td>-0.929318</td>\n",
       "      <td>-0.056360</td>\n",
       "      <td>0.765247</td>\n",
       "      <td>3.743574</td>\n",
       "    </tr>\n",
       "    <tr>\n",
       "      <th>residual sugar</th>\n",
       "      <td>1599.0</td>\n",
       "      <td>-1.905223e-16</td>\n",
       "      <td>1.000313</td>\n",
       "      <td>-1.162696</td>\n",
       "      <td>-0.453218</td>\n",
       "      <td>-0.240375</td>\n",
       "      <td>0.043416</td>\n",
       "      <td>9.195681</td>\n",
       "    </tr>\n",
       "    <tr>\n",
       "      <th>chlorides</th>\n",
       "      <td>1599.0</td>\n",
       "      <td>4.838739e-16</td>\n",
       "      <td>1.000313</td>\n",
       "      <td>-1.603945</td>\n",
       "      <td>-0.371229</td>\n",
       "      <td>-0.179946</td>\n",
       "      <td>0.053845</td>\n",
       "      <td>11.127035</td>\n",
       "    </tr>\n",
       "    <tr>\n",
       "      <th>free sulfur dioxide</th>\n",
       "      <td>1599.0</td>\n",
       "      <td>1.432042e-16</td>\n",
       "      <td>1.000313</td>\n",
       "      <td>-1.422500</td>\n",
       "      <td>-0.848716</td>\n",
       "      <td>-0.179300</td>\n",
       "      <td>0.490115</td>\n",
       "      <td>5.367284</td>\n",
       "    </tr>\n",
       "    <tr>\n",
       "      <th>total sulfur dioxide</th>\n",
       "      <td>1599.0</td>\n",
       "      <td>1.289532e-16</td>\n",
       "      <td>1.000313</td>\n",
       "      <td>-1.230584</td>\n",
       "      <td>-0.744040</td>\n",
       "      <td>-0.257497</td>\n",
       "      <td>0.472318</td>\n",
       "      <td>7.375154</td>\n",
       "    </tr>\n",
       "    <tr>\n",
       "      <th>density</th>\n",
       "      <td>1599.0</td>\n",
       "      <td>-3.482795e-14</td>\n",
       "      <td>1.000313</td>\n",
       "      <td>-3.538731</td>\n",
       "      <td>-0.607756</td>\n",
       "      <td>0.001760</td>\n",
       "      <td>0.576825</td>\n",
       "      <td>3.680055</td>\n",
       "    </tr>\n",
       "    <tr>\n",
       "      <th>pH</th>\n",
       "      <td>1599.0</td>\n",
       "      <td>3.002879e-15</td>\n",
       "      <td>1.000313</td>\n",
       "      <td>-3.700401</td>\n",
       "      <td>-0.655141</td>\n",
       "      <td>-0.007213</td>\n",
       "      <td>0.575922</td>\n",
       "      <td>4.528282</td>\n",
       "    </tr>\n",
       "    <tr>\n",
       "      <th>sulphates</th>\n",
       "      <td>1599.0</td>\n",
       "      <td>7.639596e-16</td>\n",
       "      <td>1.000313</td>\n",
       "      <td>-1.936507</td>\n",
       "      <td>-0.638220</td>\n",
       "      <td>-0.225128</td>\n",
       "      <td>0.424016</td>\n",
       "      <td>7.918677</td>\n",
       "    </tr>\n",
       "    <tr>\n",
       "      <th>alcohol</th>\n",
       "      <td>1599.0</td>\n",
       "      <td>9.437243e-16</td>\n",
       "      <td>1.000313</td>\n",
       "      <td>-1.898919</td>\n",
       "      <td>-0.866379</td>\n",
       "      <td>-0.209308</td>\n",
       "      <td>0.635497</td>\n",
       "      <td>4.202453</td>\n",
       "    </tr>\n",
       "  </tbody>\n",
       "</table>\n",
       "</div>"
      ],
      "text/plain": [
       "                       count          mean       std       min       25%  \\\n",
       "fixed acidity         1599.0  3.435512e-16  1.000313 -2.137045 -0.700719   \n",
       "volatile acidity      1599.0  1.699704e-16  1.000313 -2.278280 -0.769931   \n",
       "citric acid           1599.0  4.335355e-16  1.000313 -1.391472 -0.929318   \n",
       "residual sugar        1599.0 -1.905223e-16  1.000313 -1.162696 -0.453218   \n",
       "chlorides             1599.0  4.838739e-16  1.000313 -1.603945 -0.371229   \n",
       "free sulfur dioxide   1599.0  1.432042e-16  1.000313 -1.422500 -0.848716   \n",
       "total sulfur dioxide  1599.0  1.289532e-16  1.000313 -1.230584 -0.744040   \n",
       "density               1599.0 -3.482795e-14  1.000313 -3.538731 -0.607756   \n",
       "pH                    1599.0  3.002879e-15  1.000313 -3.700401 -0.655141   \n",
       "sulphates             1599.0  7.639596e-16  1.000313 -1.936507 -0.638220   \n",
       "alcohol               1599.0  9.437243e-16  1.000313 -1.898919 -0.866379   \n",
       "\n",
       "                           50%       75%        max  \n",
       "fixed acidity        -0.241094  0.505795   4.355149  \n",
       "volatile acidity     -0.043689  0.626688   5.877976  \n",
       "citric acid          -0.056360  0.765247   3.743574  \n",
       "residual sugar       -0.240375  0.043416   9.195681  \n",
       "chlorides            -0.179946  0.053845  11.127035  \n",
       "free sulfur dioxide  -0.179300  0.490115   5.367284  \n",
       "total sulfur dioxide -0.257497  0.472318   7.375154  \n",
       "density               0.001760  0.576825   3.680055  \n",
       "pH                   -0.007213  0.575922   4.528282  \n",
       "sulphates            -0.225128  0.424016   7.918677  \n",
       "alcohol              -0.209308  0.635497   4.202453  "
      ]
     },
     "execution_count": 47,
     "metadata": {},
     "output_type": "execute_result"
    }
   ],
   "source": [
    "df_features.describe().T"
   ]
  },
  {
   "cell_type": "markdown",
   "metadata": {},
   "source": [
    "## Modeling"
   ]
  },
  {
   "cell_type": "markdown",
   "metadata": {},
   "source": [
    "### Prepare train, validation and test datasets"
   ]
  },
  {
   "cell_type": "code",
   "execution_count": 51,
   "metadata": {},
   "outputs": [],
   "source": [
    "train_data, test_data, train_labels, test_labels = train_test_split(df_features, df['quality'], test_size=0.4)\n",
    "val_data, test_data, val_labels, test_labels = train_test_split(test_data, test_labels, test_size=0.5)"
   ]
  },
  {
   "cell_type": "markdown",
   "metadata": {},
   "source": [
    "Sanity check for data"
   ]
  },
  {
   "cell_type": "code",
   "execution_count": 52,
   "metadata": {},
   "outputs": [
    {
     "data": {
      "text/plain": [
       "[(959, 11), (959,), (320, 11), (320,), (320, 11), (320,)]"
      ]
     },
     "execution_count": 52,
     "metadata": {},
     "output_type": "execute_result"
    }
   ],
   "source": [
    "[x.shape for x in [train_data, train_labels, val_data, val_labels, test_data, test_labels]]"
   ]
  },
  {
   "cell_type": "markdown",
   "metadata": {},
   "source": [
    "### Build model"
   ]
  },
  {
   "cell_type": "code",
   "execution_count": 430,
   "metadata": {},
   "outputs": [],
   "source": [
    "def build_model(n_layers, layer_size, n_classes, final_activation, input_shape):\n",
    "    layers = [tf.keras.layers.BatchNormalization(input_shape=input_shape)]\n",
    "    for _ in range(n_layers):\n",
    "        layers.extend([\n",
    "            tf.keras.layers.Dense(layer_size, kernel_initializer='he_uniform'),\n",
    "            tf.keras.layers.LeakyReLU(),\n",
    "            tf.keras.layers.BatchNormalization(),\n",
    "        ])\n",
    "    layers.append(tf.keras.layers.Dense(n_classes, activation=final_activation))\n",
    "    \n",
    "    seq_model = tf.keras.Sequential(layers)\n",
    "\n",
    "    seq_model.compile(\n",
    "        optimizer=tf.keras.optimizers.RMSprop(lr=1e-3),\n",
    "        loss=tf.keras.losses.mean_squared_error,\n",
    "        metrics=[\n",
    "            tf.keras.metrics.RootMeanSquaredError(),\n",
    "            tf.keras.metrics.mean_absolute_error,\n",
    "        ]\n",
    "    )\n",
    "    \n",
    "    return seq_model"
   ]
  },
  {
   "cell_type": "code",
   "execution_count": 431,
   "metadata": {},
   "outputs": [],
   "source": [
    "model = build_model(\n",
    "    n_layers=3,\n",
    "    layer_size=64,\n",
    "    n_classes=1,\n",
    "    final_activation='relu',\n",
    "    input_shape=train_data.values.shape[1:]\n",
    ")"
   ]
  },
  {
   "cell_type": "code",
   "execution_count": 432,
   "metadata": {},
   "outputs": [
    {
     "name": "stdout",
     "output_type": "stream",
     "text": [
      "Model: \"sequential_32\"\n",
      "_________________________________________________________________\n",
      "Layer (type)                 Output Shape              Param #   \n",
      "=================================================================\n",
      "batch_normalization_128 (Bat (None, 11)                44        \n",
      "_________________________________________________________________\n",
      "dense_128 (Dense)            (None, 64)                768       \n",
      "_________________________________________________________________\n",
      "leaky_re_lu_96 (LeakyReLU)   (None, 64)                0         \n",
      "_________________________________________________________________\n",
      "batch_normalization_129 (Bat (None, 64)                256       \n",
      "_________________________________________________________________\n",
      "dense_129 (Dense)            (None, 64)                4160      \n",
      "_________________________________________________________________\n",
      "leaky_re_lu_97 (LeakyReLU)   (None, 64)                0         \n",
      "_________________________________________________________________\n",
      "batch_normalization_130 (Bat (None, 64)                256       \n",
      "_________________________________________________________________\n",
      "dense_130 (Dense)            (None, 64)                4160      \n",
      "_________________________________________________________________\n",
      "leaky_re_lu_98 (LeakyReLU)   (None, 64)                0         \n",
      "_________________________________________________________________\n",
      "batch_normalization_131 (Bat (None, 64)                256       \n",
      "_________________________________________________________________\n",
      "dense_131 (Dense)            (None, 1)                 65        \n",
      "=================================================================\n",
      "Total params: 9,965\n",
      "Trainable params: 9,559\n",
      "Non-trainable params: 406\n",
      "_________________________________________________________________\n"
     ]
    }
   ],
   "source": [
    "model.summary()"
   ]
  },
  {
   "cell_type": "markdown",
   "metadata": {},
   "source": [
    "### Initial training"
   ]
  },
  {
   "cell_type": "code",
   "execution_count": 433,
   "metadata": {
    "scrolled": true
   },
   "outputs": [],
   "source": [
    "history = model.fit(\n",
    "    x=train_data.values,\n",
    "    y=train_labels.values,\n",
    "    validation_data=(val_data.values, val_labels.values),\n",
    "    batch_size=64,\n",
    "    epochs=200,\n",
    "    shuffle=True,\n",
    "    verbose=0\n",
    ")"
   ]
  },
  {
   "cell_type": "code",
   "execution_count": 434,
   "metadata": {},
   "outputs": [
    {
     "name": "stdout",
     "output_type": "stream",
     "text": [
      "959/959 [==============================] - 0s 220us/sample - loss: 0.1471 - root_mean_squared_error: 0.3835 - mean_absolute_error: 0.2974\n"
     ]
    },
    {
     "data": {
      "text/plain": [
       "[0.14707203842582992, 0.3834997, 0.29740414]"
      ]
     },
     "execution_count": 434,
     "metadata": {},
     "output_type": "execute_result"
    }
   ],
   "source": [
    "model.evaluate(train_data, train_labels)"
   ]
  },
  {
   "cell_type": "markdown",
   "metadata": {},
   "source": [
    "## Model evaluation"
   ]
  },
  {
   "cell_type": "code",
   "execution_count": 435,
   "metadata": {},
   "outputs": [],
   "source": [
    "def plot_history(history):\n",
    "    hist = pd.DataFrame(history.history)\n",
    "    hist['epoch'] = history.epoch\n",
    "    \n",
    "    fig, axs = plt.subplots(ncols=2)\n",
    "    fig.set_figwidth(16)\n",
    "    \n",
    "    sns.lineplot(x='epoch', y='mean_absolute_error', data=hist, ax=axs[0])\n",
    "    ax1 = sns.lineplot(x='epoch', y='val_mean_absolute_error', data=hist, ax=axs[0])\n",
    "    ax1.set(xlabel='Epoch', ylabel='MAE')\n",
    "    ax1.legend(labels=['Train Error','Val Error'])\n",
    "    ax1_twinx = ax1.twinx()\n",
    "    ax1_twinx1 = sns.lineplot(x='epoch', y='loss', data=hist, ax=ax1_twinx, color='red')\n",
    "    ax1_twinx1.set(ylabel='Loss')\n",
    "    \n",
    "    sns.lineplot(x='epoch', y='root_mean_squared_error', data=hist, ax=axs[1])\n",
    "    ax2 = sns.lineplot(x='epoch', y='val_root_mean_squared_error', data=hist, ax=axs[1])\n",
    "    ax2.set(xlabel='Epoch', ylabel='MAE')\n",
    "    ax2.legend(labels=['Train Error','Val Error'])\n",
    "    ax2_twinx = ax2.twinx()\n",
    "    ax2_twinx1 = sns.lineplot(x='epoch', y='loss', data=hist, ax=ax2_twinx, color='red')\n",
    "    ax2_twinx1.set(ylabel='Loss')"
   ]
  },
  {
   "cell_type": "code",
   "execution_count": 436,
   "metadata": {},
   "outputs": [
    {
     "data": {
      "image/png": "[encoded data removed]",
      "text/plain": [
       "<Figure size 1152x288 with 4 Axes>"
      ]
     },
     "metadata": {
      "needs_background": "light"
     },
     "output_type": "display_data"
    }
   ],
   "source": [
    "plot_history(history)"
   ]
  },
  {
   "cell_type": "markdown",
   "metadata": {},
   "source": [
    "Graph indicates, that error is not improving much after a while. Let's update the `model.fit` call to automatically stop training when the validation score doesn't improve.\n",
    "\n",
    "First rebuild model and add callback for early stop.\n",
    "\n",
    "_NB! Loss is RED line._"
   ]
  },
  {
   "cell_type": "code",
   "execution_count": 437,
   "metadata": {},
   "outputs": [],
   "source": [
    "model = build_model(\n",
    "    n_layers=3,\n",
    "    layer_size=64,\n",
    "    n_classes=1,\n",
    "    final_activation='relu',\n",
    "    input_shape=train_data.values.shape[1:]\n",
    ")"
   ]
  },
  {
   "cell_type": "code",
   "execution_count": 438,
   "metadata": {},
   "outputs": [],
   "source": [
    "history = model.fit(\n",
    "    x=train_data.values,\n",
    "    y=train_labels.values,\n",
    "    validation_data=(val_data.values, val_labels.values),\n",
    "    batch_size=64,\n",
    "    epochs=200,\n",
    "    shuffle=True,\n",
    "    verbose=0,\n",
    "    callbacks = [\n",
    "         tf.keras.callbacks.EarlyStopping(monitor='val_loss', patience=30)\n",
    "    ]\n",
    ")"
   ]
  },
  {
   "cell_type": "markdown",
   "metadata": {},
   "source": [
    "Save and load model just to be safe after final training."
   ]
  },
  {
   "cell_type": "code",
   "execution_count": 440,
   "metadata": {},
   "outputs": [],
   "source": [
    "model.save('model_dump.h5')"
   ]
  },
  {
   "cell_type": "code",
   "execution_count": 442,
   "metadata": {},
   "outputs": [],
   "source": [
    "model = tf.keras.models.load_model('model_dump.h5')"
   ]
  },
  {
   "cell_type": "code",
   "execution_count": 443,
   "metadata": {},
   "outputs": [
    {
     "data": {
      "image/png": "[encoded data removed]",
      "text/plain": [
       "<Figure size 1152x288 with 4 Axes>"
      ]
     },
     "metadata": {
      "needs_background": "light"
     },
     "output_type": "display_data"
    }
   ],
   "source": [
    "plot_history(history)"
   ]
  },
  {
   "cell_type": "markdown",
   "metadata": {},
   "source": [
    "And here we saved some procesing time by stopping learning early.\n",
    "\n",
    "_NB! Loss is RED line._"
   ]
  },
  {
   "cell_type": "code",
   "execution_count": 444,
   "metadata": {},
   "outputs": [
    {
     "name": "stdout",
     "output_type": "stream",
     "text": [
      "959/959 [==============================] - 0s 187us/sample - loss: 0.2276 - root_mean_squared_error: 0.4770 - mean_absolute_error: 0.3698\n"
     ]
    },
    {
     "data": {
      "text/plain": [
       "[0.22756396577430343, 0.47703665, 0.36979496]"
      ]
     },
     "execution_count": 444,
     "metadata": {},
     "output_type": "execute_result"
    }
   ],
   "source": [
    "model.evaluate(train_data, train_labels)"
   ]
  },
  {
   "cell_type": "markdown",
   "metadata": {},
   "source": [
    "### Make predictions"
   ]
  },
  {
   "cell_type": "code",
   "execution_count": 445,
   "metadata": {},
   "outputs": [],
   "source": [
    "test_predictions = model.predict(test_data).flatten()"
   ]
  },
  {
   "cell_type": "code",
   "execution_count": 446,
   "metadata": {},
   "outputs": [
    {
     "data": {
      "image/png": "[encoded data removed]",
      "text/plain": [
       "<Figure size 1440x720 with 1 Axes>"
      ]
     },
     "metadata": {
      "needs_background": "light"
     },
     "output_type": "display_data"
    }
   ],
   "source": [
    "plt.figure(figsize=(20,10));\n",
    "plt.scatter(test_labels, test_predictions)\n",
    "plt.xlabel('Test Values [Quality]')\n",
    "plt.ylabel('Predictions [Quality]')\n",
    "plt.axis('equal')\n",
    "plt.axis('square')\n",
    "plt.xlim([0, plt.xlim()[1]])\n",
    "plt.ylim([0, plt.ylim()[1]])\n",
    "plt.plot([-100, 100], [-100, 100]);"
   ]
  },
  {
   "cell_type": "code",
   "execution_count": 447,
   "metadata": {},
   "outputs": [
    {
     "data": {
      "image/png": "[encoded data removed]",
      "text/plain": [
       "<Figure size 432x288 with 1 Axes>"
      ]
     },
     "metadata": {
      "needs_background": "light"
     },
     "output_type": "display_data"
    }
   ],
   "source": [
    "sns.distplot(\n",
    "    (test_labels-test_predictions),\n",
    "    bins=50,\n",
    "    axlabel=\"Prediction Error\"\n",
    ");"
   ]
  },
  {
   "cell_type": "markdown",
   "metadata": {},
   "source": [
    "## Compare with RandomForestRegressor"
   ]
  },
  {
   "cell_type": "markdown",
   "metadata": {},
   "source": [
    "Prepare data for RandomForestRegressor"
   ]
  },
  {
   "cell_type": "code",
   "execution_count": 167,
   "metadata": {},
   "outputs": [],
   "source": [
    "train_data_cv = pd.concat([train_data, val_data], axis=0)\n",
    "train_labels_cv = pd.concat([train_labels, val_labels], axis=0)"
   ]
  },
  {
   "cell_type": "code",
   "execution_count": 192,
   "metadata": {},
   "outputs": [],
   "source": [
    "rfc_gs = GridSearchCV(\n",
    "    estimator=RandomForestRegressor(),\n",
    "    param_grid={\n",
    "        \"n_estimators\": np.linspace(10, 500, 3).astype(int),\n",
    "        \"min_samples_leaf\": np.linspace(1, 10, 3).astype(int),\n",
    "        \"max_depth\": np.linspace(10, 100, 3).astype(int),\n",
    "        \"max_features\": ['sqrt', 'log2', 0.1],\n",
    "    },\n",
    "    n_jobs=-1,\n",
    "    cv=5,\n",
    "    scoring='neg_mean_squared_error',\n",
    "    verbose=1\n",
    ")"
   ]
  },
  {
   "cell_type": "code",
   "execution_count": 193,
   "metadata": {},
   "outputs": [
    {
     "name": "stdout",
     "output_type": "stream",
     "text": [
      "Fitting 5 folds for each of 81 candidates, totalling 405 fits\n"
     ]
    },
    {
     "name": "stderr",
     "output_type": "stream",
     "text": [
      "[Parallel(n_jobs=-1)]: Using backend LokyBackend with 12 concurrent workers.\n",
      "[Parallel(n_jobs=-1)]: Done  26 tasks      | elapsed:    3.3s\n",
      "[Parallel(n_jobs=-1)]: Done 176 tasks      | elapsed:   10.4s\n",
      "[Parallel(n_jobs=-1)]: Done 405 out of 405 | elapsed:   25.5s finished\n"
     ]
    },
    {
     "data": {
      "text/plain": [
       "GridSearchCV(cv=5, error_score='raise-deprecating',\n",
       "             estimator=RandomForestRegressor(bootstrap=True, criterion='mse',\n",
       "                                             max_depth=None,\n",
       "                                             max_features='auto',\n",
       "                                             max_leaf_nodes=None,\n",
       "                                             min_impurity_decrease=0.0,\n",
       "                                             min_impurity_split=None,\n",
       "                                             min_samples_leaf=1,\n",
       "                                             min_samples_split=2,\n",
       "                                             min_weight_fraction_leaf=0.0,\n",
       "                                             n_estimators='warn', n_jobs=None,\n",
       "                                             oob_score=False, random_state=None,\n",
       "                                             verbose=0, warm_start=False),\n",
       "             iid='warn', n_jobs=-1,\n",
       "             param_grid={'max_depth': array([ 10,  55, 100]),\n",
       "                         'max_features': ['sqrt', 'log2', 0.1],\n",
       "                         'min_samples_leaf': array([ 1,  5, 10]),\n",
       "                         'n_estimators': array([ 10, 255, 500])},\n",
       "             pre_dispatch='2*n_jobs', refit=True, return_train_score=False,\n",
       "             scoring='neg_mean_squared_error', verbose=1)"
      ]
     },
     "execution_count": 193,
     "metadata": {},
     "output_type": "execute_result"
    }
   ],
   "source": [
    "rfc_gs.fit(train_data_cv, train_labels_cv)"
   ]
  },
  {
   "cell_type": "code",
   "execution_count": 198,
   "metadata": {},
   "outputs": [],
   "source": [
    "predictions_rf = rfc_gs.predict(test_data)"
   ]
  },
  {
   "cell_type": "code",
   "execution_count": 199,
   "metadata": {},
   "outputs": [
    {
     "name": "stdout",
     "output_type": "stream",
     "text": [
      "MAE: 0.38976249999999996\n",
      "MSE: 0.27407645\n",
      "RMSE: 0.5235231131478342\n"
     ]
    }
   ],
   "source": [
    "print('MAE:', metrics.mean_absolute_error(test_labels, predictions_rf))\n",
    "print('MSE:', metrics.mean_squared_error(test_labels, predictions_rf))\n",
    "print('RMSE:', np.sqrt(metrics.mean_squared_error(test_labels, predictions_rf)))"
   ]
  },
  {
   "cell_type": "markdown",
   "metadata": {},
   "source": [
    "## Conclusion"
   ]
  },
  {
   "cell_type": "code",
   "execution_count": 429,
   "metadata": {},
   "outputs": [
    {
     "data": {
      "text/html": [
       "<div>\n",
       "<style scoped>\n",
       "    .dataframe tbody tr th:only-of-type {\n",
       "        vertical-align: middle;\n",
       "    }\n",
       "\n",
       "    .dataframe tbody tr th {\n",
       "        vertical-align: top;\n",
       "    }\n",
       "\n",
       "    .dataframe thead th {\n",
       "        text-align: right;\n",
       "    }\n",
       "</style>\n",
       "<table border=\"1\" class=\"dataframe\">\n",
       "  <thead>\n",
       "    <tr style=\"text-align: right;\">\n",
       "      <th></th>\n",
       "      <th>MSE</th>\n",
       "      <th>RMSE</th>\n",
       "      <th>MAE</th>\n",
       "    </tr>\n",
       "  </thead>\n",
       "  <tbody>\n",
       "    <tr>\n",
       "      <th>DL</th>\n",
       "      <td>0.219637</td>\n",
       "      <td>0.463188</td>\n",
       "      <td>0.368401</td>\n",
       "    </tr>\n",
       "    <tr>\n",
       "      <th>RFR</th>\n",
       "      <td>0.274076</td>\n",
       "      <td>0.523523</td>\n",
       "      <td>0.389762</td>\n",
       "    </tr>\n",
       "  </tbody>\n",
       "</table>\n",
       "</div>"
      ],
      "text/plain": [
       "          MSE      RMSE       MAE\n",
       "DL   0.219637  0.463188  0.368401\n",
       "RFR  0.274076  0.523523  0.389762"
      ]
     },
     "execution_count": 429,
     "metadata": {},
     "output_type": "execute_result"
    }
   ],
   "source": [
    "conclusions = pd.DataFrame(\n",
    "    [[0.21963657014561397, 0.46318796, 0.36840096],[0.27407645, 0.5235231131478342, 0.38976249999999996]], \n",
    "    index=['DL', 'RFR'],\n",
    "    columns= ['MSE', 'RMSE', 'MAE']\n",
    ")\n",
    "conclusions"
   ]
  },
  {
   "cell_type": "markdown",
   "metadata": {},
   "source": [
    "Only with some tinkering with hyper parameters we already see that DL model performs better than Random Forest."
   ]
  },
  {
   "cell_type": "code",
   "execution_count": null,
   "metadata": {},
   "outputs": [],
   "source": []
  }
 ],
 "metadata": {
  "kernelspec": {
   "display_name": "Python 3",
   "language": "python",
   "name": "python3"
  },
  "language_info": {
   "codemirror_mode": {
    "name": "ipython",
    "version": 3
   },
   "file_extension": ".py",
   "mimetype": "text/x-python",
   "name": "python",
   "nbconvert_exporter": "python",
   "pygments_lexer": "ipython3",
   "version": "3.7.3"
  },
  "toc": {
   "base_numbering": 1,
   "nav_menu": {},
   "number_sections": true,
   "sideBar": true,
   "skip_h1_title": false,
   "title_cell": "Table of Contents",
   "title_sidebar": "Contents",
   "toc_cell": false,
   "toc_position": {},
   "toc_section_display": true,
   "toc_window_display": true
  }
 },
 "nbformat": 4,
 "nbformat_minor": 2
}
